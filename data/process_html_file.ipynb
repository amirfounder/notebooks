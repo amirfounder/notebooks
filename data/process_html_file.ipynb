{
 "cells": [
  {
   "cell_type": "code",
   "execution_count": null,
   "id": "9a63e651",
   "metadata": {},
   "outputs": [],
   "source": [
    "pip install git+https://github.com/amirfounder/daos"
   ]
  },
  {
   "cell_type": "code",
   "execution_count": 14,
   "id": "9ebf5513",
   "metadata": {},
   "outputs": [],
   "source": [
    "from daos import ScrapedHtmlFile as File"
   ]
  },
  {
   "cell_type": "code",
   "execution_count": 18,
   "id": "c38cbb42",
   "metadata": {},
   "outputs": [],
   "source": [
    "files = File.all(path='C:/abc/561.html')"
   ]
  },
  {
   "cell_type": "code",
   "execution_count": 16,
   "id": "97ddebd0",
   "metadata": {},
   "outputs": [
    {
     "name": "stdout",
     "output_type": "stream",
     "text": [
      "C:/abc/561.html\n"
     ]
    }
   ],
   "source": [
    "for f in files:\n",
    "    print(f.path)"
   ]
  },
  {
   "cell_type": "code",
   "execution_count": 19,
   "id": "20835d3d",
   "metadata": {},
   "outputs": [
    {
     "name": "stdout",
     "output_type": "stream",
     "text": [
      "1\n"
     ]
    }
   ],
   "source": [
    "print(len([f for f in files]))"
   ]
  }
 ],
 "metadata": {
  "kernelspec": {
   "display_name": "Python 3 (ipykernel)",
   "language": "python",
   "name": "python3"
  },
  "language_info": {
   "codemirror_mode": {
    "name": "ipython",
    "version": 3
   },
   "file_extension": ".py",
   "mimetype": "text/x-python",
   "name": "python",
   "nbconvert_exporter": "python",
   "pygments_lexer": "ipython3",
   "version": "3.10.2"
  }
 },
 "nbformat": 4,
 "nbformat_minor": 5
}
